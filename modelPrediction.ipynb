{
 "cells": [
  {
   "cell_type": "code",
   "execution_count": 45,
   "metadata": {},
   "outputs": [],
   "source": [
    "import pandas as pd\n",
    "from sklearn.preprocessing import MinMaxScaler\n",
    "import seaborn as sns\n",
    "from sklearn.metrics import confusion_matrix\n",
    "from sklearn.metrics import accuracy_score ,precision_score,recall_score,f1_score\n",
    "from sklearn.preprocessing import KBinsDiscretizer\n",
    "from sklearn.naive_bayes import GaussianNB\n",
    "from sklearn.model_selection import train_test_split\n",
    "from sklearn.tree import DecisionTreeClassifier\n",
    "from sklearn.ensemble import RandomForestClassifier\n",
    "\n",
    "from sklearn.ensemble import RandomForestClassifier\n",
    "import matplotlib.pyplot as plt \n",
    "import matplotlib.colors as colors\n",
    "import sklearn.model_selection as model_selection\n",
    "from sklearn.metrics import (confusion_matrix, accuracy_score, f1_score, ConfusionMatrixDisplay, classification_report)\n",
    "from sklearn.svm import SVC"
   ]
  },
  {
   "cell_type": "code",
   "execution_count": 46,
   "metadata": {},
   "outputs": [
    {
     "name": "stdout",
     "output_type": "stream",
     "text": [
      "     Outcome  JumlahKepanitiaan  JumlahJamTidur  LamaPerjalanan  Olahraga  \\\n",
      "0          1                  7               3              25         0   \n",
      "1          1                  9               3              40        10   \n",
      "2          0                  7               4              30        10   \n",
      "3          1                  7               5              40         5   \n",
      "4          1                  4               3              30        13   \n",
      "..       ...                ...             ...             ...       ...   \n",
      "124        0                  2               8              15       100   \n",
      "125        0                  1               9              10        70   \n",
      "126        0                  0               9              45        90   \n",
      "127        0                  2              10              45         0   \n",
      "128        0                  3               7              10       100   \n",
      "\n",
      "     Curhat  \n",
      "0         6  \n",
      "1         6  \n",
      "2         3  \n",
      "3         6  \n",
      "4         5  \n",
      "..      ...  \n",
      "124       0  \n",
      "125       0  \n",
      "126       0  \n",
      "127       2  \n",
      "128       0  \n",
      "\n",
      "[129 rows x 6 columns]\n"
     ]
    }
   ],
   "source": [
    "data = pd.read_excel(\"datakuisoner.xlsx\")\n",
    "df = pd.DataFrame(data.loc[:,['Outcome','JumlahKepanitiaan','JumlahJamTidur','LamaPerjalanan','Olahraga','Curhat']])\n",
    "df[\"Outcome\"].replace({\"Iya\": 1, \"Tidak\": 0}, inplace=True)\n",
    "print(df)"
   ]
  },
  {
   "cell_type": "code",
   "execution_count": 47,
   "metadata": {},
   "outputs": [
    {
     "name": "stdout",
     "output_type": "stream",
     "text": [
      "     Outcome  JumlahKepanitiaan  JumlahJamTidur  LamaPerjalanan  Olahraga  \\\n",
      "0          1                  7               3              25         0   \n",
      "1          1                  9               3              40        10   \n",
      "2          0                  7               4              30        10   \n",
      "3          1                  7               5              40         5   \n",
      "4          1                  4               3              30        13   \n",
      "..       ...                ...             ...             ...       ...   \n",
      "124        0                  2               8              15       100   \n",
      "125        0                  1               9              10        70   \n",
      "126        0                  0               9              45        90   \n",
      "127        0                  2              10              45         0   \n",
      "128        0                  3               7              10       100   \n",
      "\n",
      "     Curhat  \n",
      "0         6  \n",
      "1         6  \n",
      "2         3  \n",
      "3         6  \n",
      "4         5  \n",
      "..      ...  \n",
      "124       0  \n",
      "125       0  \n",
      "126       0  \n",
      "127       2  \n",
      "128       0  \n",
      "\n",
      "[129 rows x 6 columns]\n"
     ]
    }
   ],
   "source": [
    "df = df.rename(columns={\"Apakah merasa tertekan di semester ini?\": \"Output\",\"Kepanitian & Organisasi\": \"JumlahKepanitiaan\", \"Rata-rata jam tidur\": \"JamTidur\", \"Lama Perjelanan ke kampus (Menit)\": \"PerjalananKampus\",\"Olahraga (Menit)\": \"Olahraga\"})\n",
    "print(df)"
   ]
  },
  {
   "cell_type": "code",
   "execution_count": 48,
   "metadata": {},
   "outputs": [
    {
     "name": "stdout",
     "output_type": "stream",
     "text": [
      "[[0.58333333 0.         0.23529412 0.         0.66666667]\n",
      " [0.75       0.         0.41176471 0.08333333 0.66666667]\n",
      " [0.58333333 0.14285714 0.29411765 0.08333333 0.33333333]\n",
      " [0.58333333 0.28571429 0.41176471 0.04166667 0.66666667]\n",
      " [0.33333333 0.         0.29411765 0.10833333 0.55555556]\n",
      " [0.16666667 0.71428571 0.05882353 0.25       0.11111111]\n",
      " [0.41666667 0.14285714 0.47058824 0.08333333 0.55555556]\n",
      " [0.16666667 0.71428571 0.02352941 0.45833333 0.        ]\n",
      " [0.08333333 0.85714286 0.11764706 0.75       0.        ]\n",
      " [0.58333333 0.         0.64705882 0.         0.44444444]\n",
      " [0.41666667 0.14285714 0.29411765 0.         0.66666667]\n",
      " [0.08333333 0.57142857 0.05882353 0.75       0.        ]\n",
      " [0.5        0.14285714 0.29411765 0.08333333 0.55555556]\n",
      " [0.5        0.14285714 1.         0.08333333 0.44444444]\n",
      " [0.75       0.         0.76470588 0.         0.55555556]\n",
      " [0.83333333 0.14285714 0.82352941 0.08333333 0.66666667]\n",
      " [0.83333333 0.14285714 0.29411765 0.08333333 0.77777778]\n",
      " [0.16666667 0.85714286 0.         0.83333333 0.        ]\n",
      " [0.41666667 0.42857143 0.35294118 0.         0.66666667]\n",
      " [0.33333333 0.         0.47058824 0.08333333 0.44444444]\n",
      " [0.08333333 0.57142857 0.05882353 0.66666667 0.        ]\n",
      " [0.5        0.14285714 0.11764706 0.25       0.55555556]\n",
      " [0.58333333 0.         0.29411765 0.08333333 0.44444444]\n",
      " [0.41666667 0.14285714 0.21176471 0.04166667 0.66666667]\n",
      " [0.25       0.57142857 0.22352941 0.04166667 0.        ]\n",
      " [0.41666667 0.         0.12941176 0.25       0.66666667]\n",
      " [0.25       0.42857143 0.2        0.58333333 0.33333333]\n",
      " [0.41666667 0.28571429 1.         0.16666667 0.77777778]\n",
      " [0.16666667 0.57142857 0.         0.25       0.44444444]\n",
      " [0.08333333 0.57142857 0.05882353 0.33333333 0.        ]\n",
      " [0.16666667 0.71428571 0.05882353 0.08333333 0.        ]\n",
      " [0.5        0.         0.17647059 0.         0.66666667]\n",
      " [0.16666667 0.71428571 0.05882353 0.25       0.        ]\n",
      " [0.33333333 0.42857143 0.29411765 0.         0.77777778]\n",
      " [0.25       0.57142857 0.05882353 0.125      0.11111111]\n",
      " [0.41666667 0.28571429 0.41176471 0.         0.33333333]\n",
      " [0.16666667 0.57142857 0.05882353 0.33333333 0.22222222]\n",
      " [0.25       0.71428571 0.11764706 0.33333333 0.        ]\n",
      " [0.         0.71428571 0.         0.41666667 0.22222222]\n",
      " [0.25       0.57142857 0.05882353 0.16666667 0.22222222]\n",
      " [0.16666667 0.71428571 0.         0.25       0.        ]\n",
      " [0.25       0.57142857 0.05882353 0.         0.11111111]\n",
      " [0.25       0.71428571 0.17647059 0.16666667 0.        ]\n",
      " [0.41666667 0.         0.41176471 0.08333333 0.44444444]\n",
      " [0.         0.71428571 0.         0.16666667 0.22222222]\n",
      " [0.25       0.57142857 0.05882353 0.41666667 0.        ]\n",
      " [0.33333333 0.14285714 1.         0.08333333 0.77777778]\n",
      " [0.         0.71428571 0.05882353 0.33333333 0.22222222]\n",
      " [0.25       0.57142857 0.09411765 0.41666667 0.        ]\n",
      " [0.         0.85714286 0.05882353 0.08333333 0.11111111]\n",
      " [0.08333333 0.57142857 0.05882353 0.25       0.22222222]\n",
      " [0.08333333 0.85714286 0.         0.16666667 0.        ]\n",
      " [0.33333333 0.42857143 0.21176471 0.125      0.66666667]\n",
      " [0.25       0.57142857 0.05882353 0.5        0.11111111]\n",
      " [0.         0.71428571 0.17647059 0.33333333 0.44444444]\n",
      " [0.33333333 0.28571429 0.72941176 0.04166667 0.66666667]\n",
      " [0.16666667 0.57142857 0.05882353 0.375      0.        ]\n",
      " [0.41666667 0.28571429 0.45882353 0.08333333 0.77777778]\n",
      " [0.08333333 0.71428571 0.05882353 0.33333333 0.11111111]\n",
      " [0.25       0.14285714 0.64705882 0.         0.22222222]\n",
      " [0.66666667 0.14285714 0.64705882 0.08333333 0.44444444]\n",
      " [0.33333333 0.14285714 1.         0.         0.55555556]\n",
      " [0.58333333 0.28571429 0.76470588 0.125      0.66666667]\n",
      " [0.16666667 0.85714286 0.05882353 0.45833333 0.33333333]\n",
      " [0.75       0.         0.47058824 0.41666667 0.55555556]\n",
      " [0.33333333 0.28571429 0.57647059 0.04166667 0.44444444]\n",
      " [0.16666667 0.71428571 0.64705882 0.25       0.11111111]\n",
      " [0.25       0.71428571 0.05882353 0.08333333 0.44444444]\n",
      " [0.33333333 0.         0.82352941 0.08333333 0.77777778]\n",
      " [0.16666667 0.85714286 0.08235294 0.41666667 0.        ]\n",
      " [0.16666667 0.57142857 0.08235294 0.5        0.22222222]\n",
      " [0.         0.85714286 0.05882353 0.33333333 0.        ]\n",
      " [0.33333333 0.14285714 0.12941176 0.         0.55555556]\n",
      " [0.         0.57142857 0.05882353 0.         0.11111111]\n",
      " [0.         0.85714286 0.02352941 0.75       0.        ]\n",
      " [0.75       0.         0.21176471 0.         0.77777778]\n",
      " [0.16666667 0.57142857 0.05882353 0.33333333 0.        ]\n",
      " [0.08333333 1.         0.08235294 0.75       0.55555556]\n",
      " [0.         0.71428571 0.05882353 0.75       0.        ]\n",
      " [0.75       0.         0.57647059 0.         0.77777778]\n",
      " [0.91666667 0.14285714 0.88235294 0.08333333 0.55555556]\n",
      " [0.33333333 0.57142857 0.88235294 0.         0.66666667]\n",
      " [0.16666667 0.42857143 0.88235294 0.25       0.66666667]\n",
      " [0.         0.85714286 0.05882353 0.58333333 0.        ]\n",
      " [0.08333333 0.42857143 0.08235294 0.16666667 0.88888889]\n",
      " [1.         0.14285714 0.41176471 0.08333333 0.66666667]\n",
      " [0.         0.85714286 0.05882353 0.16666667 0.        ]\n",
      " [0.5        0.28571429 0.17647059 1.         0.33333333]\n",
      " [0.16666667 0.71428571 0.         0.83333333 0.22222222]\n",
      " [0.         0.85714286 0.03529412 0.41666667 0.        ]\n",
      " [0.16666667 0.71428571 0.11764706 0.25       0.        ]\n",
      " [0.16666667 0.71428571 0.11764706 0.33333333 0.22222222]\n",
      " [0.16666667 0.85714286 0.         0.75       0.33333333]\n",
      " [0.41666667 0.         0.29411765 0.         0.66666667]\n",
      " [0.41666667 0.14285714 0.17647059 0.08333333 0.66666667]\n",
      " [0.08333333 0.71428571 0.05882353 0.83333333 0.        ]\n",
      " [0.08333333 0.85714286 0.02352941 0.33333333 0.22222222]\n",
      " [0.25       0.28571429 0.05882353 0.         0.66666667]\n",
      " [0.16666667 0.71428571 0.11764706 0.25       0.11111111]\n",
      " [0.41666667 0.14285714 0.35294118 0.08333333 0.55555556]\n",
      " [0.         0.71428571 0.11764706 0.75       0.        ]\n",
      " [0.66666667 0.         0.16470588 0.04166667 0.77777778]\n",
      " [0.         0.71428571 0.21176471 0.83333333 1.        ]\n",
      " [0.75       0.         0.11764706 0.         0.77777778]\n",
      " [0.83333333 0.         0.17647059 0.         0.88888889]\n",
      " [0.         0.71428571 0.2        0.58333333 0.        ]\n",
      " [0.75       0.         0.24705882 0.25       0.66666667]\n",
      " [0.5        0.14285714 0.23529412 0.04166667 0.77777778]\n",
      " [0.16666667 0.85714286 0.30588235 0.5        0.55555556]\n",
      " [0.25       0.71428571 0.29411765 0.83333333 0.22222222]\n",
      " [0.58333333 0.         0.45882353 0.         0.77777778]\n",
      " [1.         0.42857143 0.52941176 0.         0.44444444]\n",
      " [0.25       0.71428571 0.05882353 0.75       0.        ]\n",
      " [0.41666667 0.14285714 0.64705882 0.04166667 0.66666667]\n",
      " [0.         0.71428571 0.11764706 0.41666667 0.        ]\n",
      " [0.08333333 0.71428571 0.08235294 0.75       0.        ]\n",
      " [0.25       0.57142857 0.05882353 0.58333333 0.        ]\n",
      " [0.16666667 0.71428571 0.09411765 0.83333333 0.        ]\n",
      " [0.33333333 0.42857143 0.21176471 0.08333333 0.66666667]\n",
      " [0.         0.85714286 0.88235294 0.         0.77777778]\n",
      " [0.25       0.57142857 0.05882353 0.41666667 0.        ]\n",
      " [0.83333333 0.         0.29411765 0.         0.77777778]\n",
      " [0.5        0.14285714 0.41176471 0.         0.66666667]\n",
      " [0.08333333 0.57142857 0.         0.75       0.        ]\n",
      " [0.16666667 0.71428571 0.11764706 0.83333333 0.        ]\n",
      " [0.08333333 0.85714286 0.05882353 0.58333333 0.        ]\n",
      " [0.         0.85714286 0.47058824 0.75       0.        ]\n",
      " [0.16666667 1.         0.47058824 0.         0.22222222]\n",
      " [0.25       0.57142857 0.05882353 0.83333333 0.        ]]\n",
      "Data x \n",
      " [[0.58333333 0.         0.23529412 0.         0.66666667]\n",
      " [0.75       0.         0.41176471 0.08333333 0.66666667]\n",
      " [0.58333333 0.14285714 0.29411765 0.08333333 0.33333333]\n",
      " [0.58333333 0.28571429 0.41176471 0.04166667 0.66666667]\n",
      " [0.33333333 0.         0.29411765 0.10833333 0.55555556]\n",
      " [0.16666667 0.71428571 0.05882353 0.25       0.11111111]\n",
      " [0.41666667 0.14285714 0.47058824 0.08333333 0.55555556]\n",
      " [0.16666667 0.71428571 0.02352941 0.45833333 0.        ]\n",
      " [0.08333333 0.85714286 0.11764706 0.75       0.        ]\n",
      " [0.58333333 0.         0.64705882 0.         0.44444444]\n",
      " [0.41666667 0.14285714 0.29411765 0.         0.66666667]\n",
      " [0.08333333 0.57142857 0.05882353 0.75       0.        ]\n",
      " [0.5        0.14285714 0.29411765 0.08333333 0.55555556]\n",
      " [0.5        0.14285714 1.         0.08333333 0.44444444]\n",
      " [0.75       0.         0.76470588 0.         0.55555556]\n",
      " [0.83333333 0.14285714 0.82352941 0.08333333 0.66666667]\n",
      " [0.83333333 0.14285714 0.29411765 0.08333333 0.77777778]\n",
      " [0.16666667 0.85714286 0.         0.83333333 0.        ]\n",
      " [0.41666667 0.42857143 0.35294118 0.         0.66666667]\n",
      " [0.33333333 0.         0.47058824 0.08333333 0.44444444]\n",
      " [0.08333333 0.57142857 0.05882353 0.66666667 0.        ]\n",
      " [0.5        0.14285714 0.11764706 0.25       0.55555556]\n",
      " [0.58333333 0.         0.29411765 0.08333333 0.44444444]\n",
      " [0.41666667 0.14285714 0.21176471 0.04166667 0.66666667]\n",
      " [0.25       0.57142857 0.22352941 0.04166667 0.        ]\n",
      " [0.41666667 0.         0.12941176 0.25       0.66666667]\n",
      " [0.25       0.42857143 0.2        0.58333333 0.33333333]\n",
      " [0.41666667 0.28571429 1.         0.16666667 0.77777778]\n",
      " [0.16666667 0.57142857 0.         0.25       0.44444444]\n",
      " [0.08333333 0.57142857 0.05882353 0.33333333 0.        ]\n",
      " [0.16666667 0.71428571 0.05882353 0.08333333 0.        ]\n",
      " [0.5        0.         0.17647059 0.         0.66666667]\n",
      " [0.16666667 0.71428571 0.05882353 0.25       0.        ]\n",
      " [0.33333333 0.42857143 0.29411765 0.         0.77777778]\n",
      " [0.25       0.57142857 0.05882353 0.125      0.11111111]\n",
      " [0.41666667 0.28571429 0.41176471 0.         0.33333333]\n",
      " [0.16666667 0.57142857 0.05882353 0.33333333 0.22222222]\n",
      " [0.25       0.71428571 0.11764706 0.33333333 0.        ]\n",
      " [0.         0.71428571 0.         0.41666667 0.22222222]\n",
      " [0.25       0.57142857 0.05882353 0.16666667 0.22222222]\n",
      " [0.16666667 0.71428571 0.         0.25       0.        ]\n",
      " [0.25       0.57142857 0.05882353 0.         0.11111111]\n",
      " [0.25       0.71428571 0.17647059 0.16666667 0.        ]\n",
      " [0.41666667 0.         0.41176471 0.08333333 0.44444444]\n",
      " [0.         0.71428571 0.         0.16666667 0.22222222]\n",
      " [0.25       0.57142857 0.05882353 0.41666667 0.        ]\n",
      " [0.33333333 0.14285714 1.         0.08333333 0.77777778]\n",
      " [0.         0.71428571 0.05882353 0.33333333 0.22222222]\n",
      " [0.25       0.57142857 0.09411765 0.41666667 0.        ]\n",
      " [0.         0.85714286 0.05882353 0.08333333 0.11111111]\n",
      " [0.08333333 0.57142857 0.05882353 0.25       0.22222222]\n",
      " [0.08333333 0.85714286 0.         0.16666667 0.        ]\n",
      " [0.33333333 0.42857143 0.21176471 0.125      0.66666667]\n",
      " [0.25       0.57142857 0.05882353 0.5        0.11111111]\n",
      " [0.         0.71428571 0.17647059 0.33333333 0.44444444]\n",
      " [0.33333333 0.28571429 0.72941176 0.04166667 0.66666667]\n",
      " [0.16666667 0.57142857 0.05882353 0.375      0.        ]\n",
      " [0.41666667 0.28571429 0.45882353 0.08333333 0.77777778]\n",
      " [0.08333333 0.71428571 0.05882353 0.33333333 0.11111111]\n",
      " [0.25       0.14285714 0.64705882 0.         0.22222222]\n",
      " [0.66666667 0.14285714 0.64705882 0.08333333 0.44444444]\n",
      " [0.33333333 0.14285714 1.         0.         0.55555556]\n",
      " [0.58333333 0.28571429 0.76470588 0.125      0.66666667]\n",
      " [0.16666667 0.85714286 0.05882353 0.45833333 0.33333333]\n",
      " [0.75       0.         0.47058824 0.41666667 0.55555556]\n",
      " [0.33333333 0.28571429 0.57647059 0.04166667 0.44444444]\n",
      " [0.16666667 0.71428571 0.64705882 0.25       0.11111111]\n",
      " [0.25       0.71428571 0.05882353 0.08333333 0.44444444]\n",
      " [0.33333333 0.         0.82352941 0.08333333 0.77777778]\n",
      " [0.16666667 0.85714286 0.08235294 0.41666667 0.        ]\n",
      " [0.16666667 0.57142857 0.08235294 0.5        0.22222222]\n",
      " [0.         0.85714286 0.05882353 0.33333333 0.        ]\n",
      " [0.33333333 0.14285714 0.12941176 0.         0.55555556]\n",
      " [0.         0.57142857 0.05882353 0.         0.11111111]\n",
      " [0.         0.85714286 0.02352941 0.75       0.        ]\n",
      " [0.75       0.         0.21176471 0.         0.77777778]\n",
      " [0.16666667 0.57142857 0.05882353 0.33333333 0.        ]\n",
      " [0.08333333 1.         0.08235294 0.75       0.55555556]\n",
      " [0.         0.71428571 0.05882353 0.75       0.        ]\n",
      " [0.75       0.         0.57647059 0.         0.77777778]\n",
      " [0.91666667 0.14285714 0.88235294 0.08333333 0.55555556]\n",
      " [0.33333333 0.57142857 0.88235294 0.         0.66666667]\n",
      " [0.16666667 0.42857143 0.88235294 0.25       0.66666667]\n",
      " [0.         0.85714286 0.05882353 0.58333333 0.        ]\n",
      " [0.08333333 0.42857143 0.08235294 0.16666667 0.88888889]\n",
      " [1.         0.14285714 0.41176471 0.08333333 0.66666667]\n",
      " [0.         0.85714286 0.05882353 0.16666667 0.        ]\n",
      " [0.5        0.28571429 0.17647059 1.         0.33333333]\n",
      " [0.16666667 0.71428571 0.         0.83333333 0.22222222]\n",
      " [0.         0.85714286 0.03529412 0.41666667 0.        ]\n",
      " [0.16666667 0.71428571 0.11764706 0.25       0.        ]\n",
      " [0.16666667 0.71428571 0.11764706 0.33333333 0.22222222]\n",
      " [0.16666667 0.85714286 0.         0.75       0.33333333]\n",
      " [0.41666667 0.         0.29411765 0.         0.66666667]\n",
      " [0.41666667 0.14285714 0.17647059 0.08333333 0.66666667]\n",
      " [0.08333333 0.71428571 0.05882353 0.83333333 0.        ]\n",
      " [0.08333333 0.85714286 0.02352941 0.33333333 0.22222222]\n",
      " [0.25       0.28571429 0.05882353 0.         0.66666667]\n",
      " [0.16666667 0.71428571 0.11764706 0.25       0.11111111]\n",
      " [0.41666667 0.14285714 0.35294118 0.08333333 0.55555556]\n",
      " [0.         0.71428571 0.11764706 0.75       0.        ]\n",
      " [0.66666667 0.         0.16470588 0.04166667 0.77777778]\n",
      " [0.         0.71428571 0.21176471 0.83333333 1.        ]\n",
      " [0.75       0.         0.11764706 0.         0.77777778]\n",
      " [0.83333333 0.         0.17647059 0.         0.88888889]\n",
      " [0.         0.71428571 0.2        0.58333333 0.        ]\n",
      " [0.75       0.         0.24705882 0.25       0.66666667]\n",
      " [0.5        0.14285714 0.23529412 0.04166667 0.77777778]\n",
      " [0.16666667 0.85714286 0.30588235 0.5        0.55555556]\n",
      " [0.25       0.71428571 0.29411765 0.83333333 0.22222222]\n",
      " [0.58333333 0.         0.45882353 0.         0.77777778]\n",
      " [1.         0.42857143 0.52941176 0.         0.44444444]\n",
      " [0.25       0.71428571 0.05882353 0.75       0.        ]\n",
      " [0.41666667 0.14285714 0.64705882 0.04166667 0.66666667]\n",
      " [0.         0.71428571 0.11764706 0.41666667 0.        ]\n",
      " [0.08333333 0.71428571 0.08235294 0.75       0.        ]\n",
      " [0.25       0.57142857 0.05882353 0.58333333 0.        ]\n",
      " [0.16666667 0.71428571 0.09411765 0.83333333 0.        ]\n",
      " [0.33333333 0.42857143 0.21176471 0.08333333 0.66666667]\n",
      " [0.         0.85714286 0.88235294 0.         0.77777778]\n",
      " [0.25       0.57142857 0.05882353 0.41666667 0.        ]\n",
      " [0.83333333 0.         0.29411765 0.         0.77777778]\n",
      " [0.5        0.14285714 0.41176471 0.         0.66666667]\n",
      " [0.08333333 0.57142857 0.         0.75       0.        ]\n",
      " [0.16666667 0.71428571 0.11764706 0.83333333 0.        ]\n",
      " [0.08333333 0.85714286 0.05882353 0.58333333 0.        ]\n",
      " [0.         0.85714286 0.47058824 0.75       0.        ]\n",
      " [0.16666667 1.         0.47058824 0.         0.22222222]\n",
      " [0.25       0.57142857 0.05882353 0.83333333 0.        ]]\n",
      "Data y \n",
      " 0      1\n",
      "1      1\n",
      "2      0\n",
      "3      1\n",
      "4      1\n",
      "      ..\n",
      "124    0\n",
      "125    0\n",
      "126    0\n",
      "127    0\n",
      "128    0\n",
      "Name: Outcome, Length: 129, dtype: int64\n"
     ]
    }
   ],
   "source": [
    "x = df.iloc[:, 1:6]\n",
    "y = df.iloc[:, 0]\n",
    "minmax = MinMaxScaler()\n",
    "minmax.fit(x)\n",
    "x = minmax.fit_transform(x)\n",
    "print(x)\n",
    "print(\"Data x \\n\", x)\n",
    "print(\"Data y \\n\", y)"
   ]
  },
  {
   "cell_type": "code",
   "execution_count": 49,
   "metadata": {},
   "outputs": [],
   "source": [
    "x_train, x_test, y_train, y_test = train_test_split(x,y, test_size=0.3, random_state=42)"
   ]
  },
  {
   "cell_type": "code",
   "execution_count": 50,
   "metadata": {},
   "outputs": [
    {
     "name": "stderr",
     "output_type": "stream",
     "text": [
      "c:\\Users\\reyha\\AppData\\Local\\Programs\\Python\\Python312\\Lib\\site-packages\\sklearn\\preprocessing\\_discretization.py:248: FutureWarning: In version 1.5 onwards, subsample=200_000 will be used by default. Set subsample explicitly to silence this warning in the mean time. Set subsample=None to disable subsampling explicitly.\n",
      "  warnings.warn(\n",
      "c:\\Users\\reyha\\AppData\\Local\\Programs\\Python\\Python312\\Lib\\site-packages\\sklearn\\preprocessing\\_discretization.py:248: FutureWarning: In version 1.5 onwards, subsample=200_000 will be used by default. Set subsample explicitly to silence this warning in the mean time. Set subsample=None to disable subsampling explicitly.\n",
      "  warnings.warn(\n"
     ]
    }
   ],
   "source": [
    "kbins = KBinsDiscretizer(n_bins=4, encode='ordinal', strategy='uniform', random_state=42)\n",
    "x_train = kbins.fit_transform(x_train)\n",
    "x_test = kbins.fit_transform(x_test)"
   ]
  },
  {
   "cell_type": "code",
   "execution_count": 51,
   "metadata": {},
   "outputs": [
    {
     "name": "stdout",
     "output_type": "stream",
     "text": [
      "Data training variable : [[2. 0. 1. 0. 1.]\n",
      " [0. 3. 0. 0. 0.]\n",
      " [1. 1. 2. 0. 1.]\n",
      " [0. 3. 0. 1. 0.]\n",
      " [0. 3. 0. 0. 0.]\n",
      " [2. 1. 3. 0. 2.]\n",
      " [2. 0. 1. 0. 2.]\n",
      " [2. 0. 2. 0. 1.]\n",
      " [1. 2. 1. 0. 3.]\n",
      " [0. 3. 2. 1. 0.]\n",
      " [1. 0. 0. 1. 2.]\n",
      " [1. 2. 0. 2. 0.]\n",
      " [0. 2. 0. 1. 1.]\n",
      " [0. 3. 0. 1. 0.]\n",
      " [0. 3. 1. 3. 0.]\n",
      " [1. 2. 0. 2. 0.]\n",
      " [0. 3. 0. 1. 0.]\n",
      " [1. 0. 3. 0. 3.]\n",
      " [0. 2. 0. 0. 0.]\n",
      " [1. 2. 0. 0. 0.]\n",
      " [0. 3. 0. 0. 0.]\n",
      " [1. 1. 1. 0. 1.]\n",
      " [3. 0. 1. 0. 3.]\n",
      " [0. 2. 0. 3. 0.]\n",
      " [1. 2. 0. 0. 0.]\n",
      " [3. 0. 1. 0. 2.]\n",
      " [0. 3. 0. 1. 0.]\n",
      " [1. 0. 1. 0. 1.]\n",
      " [0. 2. 0. 1. 0.]\n",
      " [3. 0. 0. 0. 3.]\n",
      " [1. 3. 1. 3. 0.]\n",
      " [0. 3. 0. 3. 0.]\n",
      " [2. 0. 3. 0. 1.]\n",
      " [1. 0. 0. 0. 2.]\n",
      " [2. 1. 1. 0. 2.]\n",
      " [0. 3. 0. 3. 0.]\n",
      " [0. 3. 0. 1. 0.]\n",
      " [1. 0. 0. 0. 2.]\n",
      " [2. 0. 0. 0. 3.]\n",
      " [1. 0. 1. 0. 2.]\n",
      " [0. 3. 0. 2. 0.]\n",
      " [3. 2. 2. 0. 1.]\n",
      " [1. 0. 2. 0. 2.]\n",
      " [0. 3. 0. 1. 1.]\n",
      " [0. 2. 0. 1. 0.]\n",
      " [1. 2. 0. 0. 2.]\n",
      " [1. 0. 3. 0. 3.]\n",
      " [2. 0. 0. 0. 3.]\n",
      " [1. 0. 3. 0. 2.]\n",
      " [0. 3. 0. 2. 0.]\n",
      " [3. 0. 2. 0. 3.]\n",
      " [1. 2. 0. 1. 0.]\n",
      " [0. 3. 0. 1. 0.]\n",
      " [1. 2. 0. 0. 0.]\n",
      " [0. 3. 0. 1. 0.]\n",
      " [0. 3. 0. 1. 0.]\n",
      " [1. 2. 0. 1. 0.]\n",
      " [0. 3. 0. 3. 0.]\n",
      " [2. 0. 1. 0. 3.]\n",
      " [1. 1. 1. 0. 3.]\n",
      " [3. 0. 0. 0. 3.]\n",
      " [0. 3. 0. 1. 0.]\n",
      " [3. 0. 1. 0. 3.]\n",
      " [1. 0. 2. 0. 0.]\n",
      " [0. 3. 0. 1. 1.]\n",
      " [0. 3. 1. 2. 2.]\n",
      " [1. 3. 0. 1. 0.]\n",
      " [0. 2. 0. 1. 0.]\n",
      " [0. 3. 0. 3. 0.]\n",
      " [3. 0. 1. 0. 2.]\n",
      " [1. 2. 0. 0. 2.]\n",
      " [2. 0. 0. 1. 2.]\n",
      " [2. 0. 1. 0. 1.]\n",
      " [1. 0. 0. 0. 2.]\n",
      " [3. 0. 0. 0. 3.]\n",
      " [1. 0. 1. 0. 2.]\n",
      " [2. 1. 0. 3. 1.]\n",
      " [0. 3. 0. 3. 0.]\n",
      " [0. 3. 0. 3. 0.]\n",
      " [0. 3. 0. 0. 0.]\n",
      " [0. 2. 3. 1. 2.]\n",
      " [1. 2. 0. 3. 0.]\n",
      " [0. 2. 0. 2. 0.]\n",
      " [2. 0. 2. 0. 1.]\n",
      " [0. 3. 0. 1. 0.]\n",
      " [3. 0. 0. 1. 2.]\n",
      " [3. 0. 3. 0. 2.]\n",
      " [0. 3. 0. 3. 1.]\n",
      " [0. 3. 0. 0. 0.]\n",
      " [0. 3. 0. 3. 3.]]\n",
      "Data training class : 1 0 1 0 0 1 1 1 0 0 1 0 0 0 0 0 0 1 0 0 0 0 1 0 0 1 0 1 0 1 0 0 1 1 1 0 0 1 1 1 0 0 1 0 0 0 1 1 1 0 1 0 0 0 0 0 0 0 1 1 1 0 1 0 0 0 0 0 0 1 0 0 0 1 0 1 0 0 0 0 0 0 0 1 0 1 1 0 0 0\n",
      "Data testing variable : [[1. 1. 2. 0. 3.]\n",
      " [0. 2. 0. 1. 0.]\n",
      " [1. 0. 1. 0. 2.]\n",
      " [2. 0. 0. 0. 3.]\n",
      " [0. 2. 0. 2. 0.]\n",
      " [0. 2. 0. 1. 0.]\n",
      " [0. 3. 0. 2. 0.]\n",
      " [0. 2. 0. 2. 0.]\n",
      " [1. 2. 3. 0. 3.]\n",
      " [1. 1. 0. 2. 1.]\n",
      " [0. 2. 0. 3. 0.]\n",
      " [1. 1. 3. 0. 3.]\n",
      " [3. 0. 1. 2. 2.]\n",
      " [1. 0. 1. 0. 2.]\n",
      " [1. 1. 0. 0. 3.]\n",
      " [0. 2. 0. 3. 0.]\n",
      " [0. 2. 0. 1. 1.]\n",
      " [3. 0. 3. 0. 2.]\n",
      " [1. 0. 1. 0. 3.]\n",
      " [0. 1. 0. 0. 3.]\n",
      " [1. 1. 1. 0. 3.]\n",
      " [1. 0. 1. 0. 3.]\n",
      " [0. 3. 3. 0. 3.]\n",
      " [0. 2. 0. 3. 0.]\n",
      " [0. 2. 0. 3. 0.]\n",
      " [1. 2. 0. 2. 0.]\n",
      " [0. 2. 0. 2. 1.]\n",
      " [0. 2. 0. 3. 0.]\n",
      " [0. 2. 0. 1. 1.]\n",
      " [2. 0. 0. 0. 3.]\n",
      " [2. 0. 1. 0. 2.]\n",
      " [1. 2. 0. 0. 0.]\n",
      " [0. 3. 1. 0. 1.]\n",
      " [1. 2. 0. 0. 0.]\n",
      " [1. 2. 0. 0. 2.]\n",
      " [1. 2. 0. 3. 0.]\n",
      " [0. 3. 0. 2. 0.]\n",
      " [3. 0. 3. 0. 3.]\n",
      " [0. 3. 0. 3. 2.]]\n",
      "Data testing class : 1 0 1 1 0 0 0 0 0 0 0 1 1 1 0 0 0 1 1 0 0 1 0 0 0 0 0 0 0 1 1 0 0 0 0 0 0 1 0\n"
     ]
    }
   ],
   "source": [
    "print(\"Data training variable :\", x_train)\n",
    "print(\"Data training class :\", *y_train)\n",
    "print(\"Data testing variable :\", x_test)\n",
    "print(\"Data testing class :\", *y_test)"
   ]
  },
  {
   "cell_type": "markdown",
   "metadata": {},
   "source": [
    "### Naive Bayes Prediction"
   ]
  },
  {
   "cell_type": "code",
   "execution_count": 52,
   "metadata": {},
   "outputs": [
    {
     "name": "stdout",
     "output_type": "stream",
     "text": [
      "Naive Bayes\n",
      "Prediksi Naive Bayes :  [1 0 1 1 0 0 0 0 0 0 0 1 0 1 1 0 0 1 1 1 1 1 0 0 0 0 0 0 0 1 1 0 0 0 0 0 0\n",
      " 1 0]\n"
     ]
    }
   ],
   "source": [
    "print(\"Naive Bayes\")\n",
    "gaussian = GaussianNB()\n",
    "gaussian.fit(x_train, y_train)\n",
    "y_predictionNB = gaussian.predict(x_test)\n",
    "accuracy_nb = round(accuracy_score(y_test, y_predictionNB)* 100, 2)\n",
    "acc_gaussianNB = round(gaussian.score(x_train, y_train)* 100, 2)\n",
    "print(\"Prediksi Naive Bayes : \", y_predictionNB)"
   ]
  },
  {
   "cell_type": "code",
   "execution_count": 53,
   "metadata": {},
   "outputs": [],
   "source": [
    "CMNB = confusion_matrix(y_test, y_predictionNB)\n",
    "accuracyNB = accuracy_score(y_test, y_predictionNB)\n",
    "precisionNB = precision_score(y_test, y_predictionNB)\n",
    "recallNB = recall_score(y_test, y_predictionNB)\n",
    "f1NB = f1_score(y_test, y_predictionNB)"
   ]
  },
  {
   "cell_type": "code",
   "execution_count": 54,
   "metadata": {},
   "outputs": [],
   "source": [
    "TNNB = CMNB[1][1] * 1.0\n",
    "FNNB = CMNB[1][0] * 1.0\n",
    "TPNB = CMNB[0][0] * 1.0\n",
    "FPNB = CMNB[0][1] * 1.0\n",
    "total = TNNB + TPNB + FPNB + FNNB\n",
    "sensitivityNB = TNNB / (TNNB + FPNB)* 100\n",
    "specificityNB = TPNB / (TPNB + FNNB)* 100"
   ]
  },
  {
   "cell_type": "code",
   "execution_count": 55,
   "metadata": {},
   "outputs": [
    {
     "name": "stdout",
     "output_type": "stream",
     "text": [
      "Akurasi Naive Bayes:  89.74358974358975 %\n",
      "Recall Naive Bayes:  91.66666666666666 %\n",
      "Precision Naive Bayes:  0.7857142857142857\n"
     ]
    }
   ],
   "source": [
    "print(\"Akurasi Naive Bayes: \", accuracyNB * 100, \"%\")\n",
    "print(\"Recall Naive Bayes: \", recallNB*100, \"%\")\n",
    "print(\"Precision Naive Bayes: \", + precisionNB)\n",
    "# print(\"f1Score : \", f1NB)"
   ]
  },
  {
   "cell_type": "code",
   "execution_count": 56,
   "metadata": {},
   "outputs": [
    {
     "name": "stdout",
     "output_type": "stream",
     "text": [
      "Confusion matrix for Naive Bayes\n",
      " [[24  3]\n",
      " [ 1 11]]\n"
     ]
    },
    {
     "data": {
      "image/png": "[encoded data removed]",
      "text/plain": [
       "<Figure size 800x500 with 2 Axes>"
      ]
     },
     "metadata": {},
     "output_type": "display_data"
    }
   ],
   "source": [
    "cm_displayNB=ConfusionMatrixDisplay(confusion_matrix=CMNB)\n",
    "print('Confusion matrix for Naive Bayes\\n',CMNB)\n",
    "f, ax = plt.subplots(figsize=(8,5))\n",
    "sns.heatmap(confusion_matrix(y_test, y_predictionNB), annot=True, fmt=\".0f\", ax=ax)\n",
    "plt.xlabel(\"Predicted\")\n",
    "plt.ylabel(\"Actual\")\n",
    "plt.show()"
   ]
  },
  {
   "cell_type": "markdown",
   "metadata": {},
   "source": [
    "### Decision Tree Prediction"
   ]
  },
  {
   "cell_type": "code",
   "execution_count": 57,
   "metadata": {},
   "outputs": [
    {
     "name": "stdout",
     "output_type": "stream",
     "text": [
      "Decision Tree\n",
      "Prediksi Decision Tree :  [1 0 1 1 0 0 0 0 0 0 0 1 1 1 1 0 0 1 1 1 1 1 0 0 0 0 0 0 0 1 1 0 0 0 0 0 0\n",
      " 1 0]\n"
     ]
    }
   ],
   "source": [
    "print(\"Decision Tree\")\n",
    "Decision = DecisionTreeClassifier(random_state=42)\n",
    "Decision.fit(x_train, y_train)\n",
    "y_predictionDT = Decision.predict(x_test)\n",
    "accuracy_DT = round(accuracy_score(y_test, y_predictionDT)* 100, 2)\n",
    "acc_DecisionDT = round(Decision.score(x_train, y_train)* 100, 2)\n",
    "print(\"Prediksi Decision Tree : \", y_predictionDT)"
   ]
  },
  {
   "cell_type": "code",
   "execution_count": 58,
   "metadata": {},
   "outputs": [],
   "source": [
    "CMDT = confusion_matrix(y_test, y_predictionDT)\n",
    "accuracyDT = accuracy_score(y_test, y_predictionDT)\n",
    "precisionDT = precision_score(y_test, y_predictionDT)\n",
    "recallDT = recall_score(y_test, y_predictionDT)\n",
    "f1DT = f1_score(y_test, y_predictionDT)"
   ]
  },
  {
   "cell_type": "code",
   "execution_count": 59,
   "metadata": {},
   "outputs": [],
   "source": [
    "TNDT = CMDT[1][1] * 1.0\n",
    "FNDT = CMDT[1][0] * 1.0\n",
    "TPDT = CMDT[0][0] * 1.0\n",
    "FPDT = CMDT[0][1] * 1.0\n",
    "total = TNDT + TPDT + FPDT + FNDT\n",
    "sensitivityDT = TNDT / (TNDT + FPDT)* 100\n",
    "specificityDT = TPDT / (TPDT + FNDT)* 100"
   ]
  },
  {
   "cell_type": "code",
   "execution_count": 60,
   "metadata": {},
   "outputs": [
    {
     "name": "stdout",
     "output_type": "stream",
     "text": [
      "Akurasi Decision Tree:  92.3076923076923 %\n",
      "Recall Decision Tree:  100.0 %\n",
      "Precision Decision Tree:  0.8\n"
     ]
    }
   ],
   "source": [
    "print(\"Akurasi Decision Tree: \", accuracyDT * 100, \"%\")\n",
    "print(\"Recall Decision Tree: \", recallDT*100, \"%\")\n",
    "print(\"Precision Decision Tree: \", + precisionDT)"
   ]
  },
  {
   "cell_type": "code",
   "execution_count": 61,
   "metadata": {},
   "outputs": [
    {
     "name": "stdout",
     "output_type": "stream",
     "text": [
      "Confusion matrix for Decision Tree\n",
      " [[24  3]\n",
      " [ 0 12]]\n"
     ]
    },
    {
     "data": {
      "image/png": "[encoded data removed]",
      "text/plain": [
       "<Figure size 800x500 with 2 Axes>"
      ]
     },
     "metadata": {},
     "output_type": "display_data"
    }
   ],
   "source": [
    "cm_displayDT=ConfusionMatrixDisplay(confusion_matrix=CMDT)\n",
    "print('Confusion matrix for Decision Tree\\n',CMDT)\n",
    "f, ax = plt.subplots(figsize=(8,5))\n",
    "sns.heatmap(confusion_matrix(y_test, y_predictionDT), annot=True, fmt=\".0f\", ax=ax)\n",
    "plt.xlabel(\"Predicted\")\n",
    "plt.ylabel(\"Actual\")\n",
    "plt.show()"
   ]
  },
  {
   "cell_type": "markdown",
   "metadata": {},
   "source": [
    "### Random Forest Prediction"
   ]
  },
  {
   "cell_type": "code",
   "execution_count": 62,
   "metadata": {},
   "outputs": [
    {
     "name": "stdout",
     "output_type": "stream",
     "text": [
      "Random Forest\n",
      "Prediksi Random Forest :  [1 0 1 1 0 0 0 0 0 0 0 1 1 1 1 0 0 1 1 1 1 1 0 0 0 0 0 0 0 1 1 0 0 0 0 0 0\n",
      " 1 0]\n"
     ]
    }
   ],
   "source": [
    "print(\"Random Forest\")\n",
    "Forest = RandomForestClassifier(random_state=42)\n",
    "Forest.fit(x_train, y_train)\n",
    "y_predictionRF = Forest.predict(x_test)\n",
    "accuracy_RF = round(accuracy_score(y_test, y_predictionRF)* 100, 2)\n",
    "acc_DecisionRF = round(Forest.score(x_train, y_train)* 100, 2)\n",
    "print(\"Prediksi Random Forest : \", y_predictionRF)"
   ]
  },
  {
   "cell_type": "code",
   "execution_count": 63,
   "metadata": {},
   "outputs": [],
   "source": [
    "CMRF = confusion_matrix(y_test, y_predictionRF)\n",
    "accuracyRF = accuracy_score(y_test, y_predictionRF)\n",
    "precisionRF = precision_score(y_test, y_predictionRF)\n",
    "recallRF = recall_score(y_test, y_predictionRF)\n",
    "f1RF = f1_score(y_test, y_predictionRF)"
   ]
  },
  {
   "cell_type": "code",
   "execution_count": 64,
   "metadata": {},
   "outputs": [],
   "source": [
    "TNRF = CMRF[1][1] * 1.0\n",
    "FNRF = CMRF[1][0] * 1.0\n",
    "TPRF = CMRF[0][0] * 1.0\n",
    "FPRF = CMRF[0][1] * 1.0\n",
    "total = TNRF + TPRF + FPRF + FNRF\n",
    "sensitivityRF = TNRF / (TNRF + FPRF)* 100\n",
    "specificityRF = TPRF / (TPRF + FNRF)* 100"
   ]
  },
  {
   "cell_type": "code",
   "execution_count": 65,
   "metadata": {},
   "outputs": [
    {
     "name": "stdout",
     "output_type": "stream",
     "text": [
      "Akurasi Random Forest:  92.3076923076923 %\n",
      "Recall Random Forest:  100.0 %\n",
      "Precision Random Forest:  0.8\n"
     ]
    }
   ],
   "source": [
    "print(\"Akurasi Random Forest: \", accuracyRF * 100, \"%\")\n",
    "print(\"Recall Random Forest: \", recallRF*100, \"%\")\n",
    "print(\"Precision Random Forest: \", + precisionRF)"
   ]
  },
  {
   "cell_type": "markdown",
   "metadata": {},
   "source": [
    "### SVC Prediction"
   ]
  },
  {
   "cell_type": "code",
   "execution_count": 66,
   "metadata": {},
   "outputs": [
    {
     "name": "stdout",
     "output_type": "stream",
     "text": [
      "Prediksi SVM :  [1 0 1 1 0 0 0 0 0 0 0 1 1 1 1 0 0 1 1 0 1 1 0 0 0 0 0 0 0 1 1 0 0 0 0 0 0\n",
      " 1 0]\n"
     ]
    }
   ],
   "source": [
    "from sklearn import svm\n",
    "\n",
    "\n",
    "SVM = svm.SVC(random_state=0)\n",
    "SVM.fit(x_train, y_train)\n",
    "y_predictionSVM = SVM.predict(x_test)\n",
    "accuracy_SVM = round(accuracy_score(y_test, y_predictionSVM)* 100, 2)\n",
    "acc_DecisionSVM = round(SVM.score(x_train, y_train)* 100, 2)\n",
    "print(\"Prediksi SVM : \", y_predictionSVM)"
   ]
  },
  {
   "cell_type": "code",
   "execution_count": 67,
   "metadata": {},
   "outputs": [],
   "source": [
    "CMSVM = confusion_matrix(y_test, y_predictionSVM)\n",
    "accuracySVM = accuracy_score(y_test, y_predictionSVM)\n",
    "precisionSVM = precision_score(y_test, y_predictionSVM)\n",
    "recallSVM = recall_score(y_test, y_predictionSVM)\n",
    "f1SVM = f1_score(y_test, y_predictionSVM)"
   ]
  },
  {
   "cell_type": "code",
   "execution_count": 68,
   "metadata": {},
   "outputs": [],
   "source": [
    "TNSVM = CMDT[1][1] * 1.0\n",
    "FNSVM = CMDT[1][0] * 1.0\n",
    "TPSVM = CMDT[0][0] * 1.0\n",
    "FPSVM = CMDT[0][1] * 1.0\n",
    "total = TNSVM + TPSVM + FPSVM + FNSVM\n",
    "sensitivityDT = TNSVM / (TNSVM + FPSVM)* 100\n",
    "specificityDT = TPSVM / (TPSVM + FNSVM)* 100"
   ]
  },
  {
   "cell_type": "code",
   "execution_count": 69,
   "metadata": {},
   "outputs": [
    {
     "name": "stdout",
     "output_type": "stream",
     "text": [
      "Akurasi SVM:  94.87179487179486 %\n",
      "Recall SVM:  100.0 %\n",
      "Precision SVM:  0.8571428571428571\n"
     ]
    }
   ],
   "source": [
    "print(\"Akurasi SVM: \", accuracySVM * 100, \"%\")\n",
    "print(\"Recall SVM: \", recallSVM*100, \"%\")\n",
    "print(\"Precision SVM: \", + precisionSVM)"
   ]
  },
  {
   "cell_type": "code",
   "execution_count": 70,
   "metadata": {},
   "outputs": [
    {
     "name": "stdout",
     "output_type": "stream",
     "text": [
      "Confusion matrix for SVM\n",
      " [[25  2]\n",
      " [ 0 12]]\n"
     ]
    },
    {
     "data": {
      "image/png": "[encoded data removed]",
      "text/plain": [
       "<Figure size 800x500 with 2 Axes>"
      ]
     },
     "metadata": {},
     "output_type": "display_data"
    }
   ],
   "source": [
    "cm_displaySVM=ConfusionMatrixDisplay(confusion_matrix=CMSVM)\n",
    "print('Confusion matrix for SVM\\n',CMSVM)\n",
    "f, ax = plt.subplots(figsize=(8,5))\n",
    "sns.heatmap(confusion_matrix(y_test, y_predictionSVM), annot=True, fmt=\".0f\", ax=ax)\n",
    "plt.xlabel(\"Predicted\")\n",
    "plt.ylabel(\"Actual\")\n",
    "plt.show()\n"
   ]
  },
  {
   "cell_type": "markdown",
   "metadata": {},
   "source": [
    "### The Final Result of Accuration"
   ]
  },
  {
   "cell_type": "code",
   "execution_count": 71,
   "metadata": {},
   "outputs": [
    {
     "name": "stdout",
     "output_type": "stream",
     "text": [
      "Perbandingan Akurasi Setiap Model Prediction: \n",
      " Naive Bayes :  89.74358974358975 % \n",
      " Decision Tree :  92.3076923076923 % \n",
      " Random Forest :  92.3076923076923 % \n",
      " SVC :  94.87179487179486 %\n"
     ]
    }
   ],
   "source": [
    "print(\"Perbandingan Akurasi Setiap Model Prediction: \\n Naive Bayes : \", accuracyNB* 100, \"%\", \"\\n Decision Tree : \", accuracyDT* 100, \"%\", \"\\n Random Forest : \", accuracyRF* 100, \"%\", \"\\n SVC : \", accuracySVM* 100, \"%\" )"
   ]
  },
  {
   "cell_type": "code",
   "execution_count": 74,
   "metadata": {},
   "outputs": [
    {
     "name": "stdout",
     "output_type": "stream",
     "text": [
      "[[3. 0. 2. 0. 0.]]\n",
      "[1]\n"
     ]
    }
   ],
   "source": [
    "# Assuming your model was trained with feature names 'JumlahJamTidur' and 'LamaPerjalanan'\n",
    "input_data = {'JumlahKepanitiaan': 12, 'JumlahJamTidur': 3, 'LamaPerjalanan': 50, 'Olahraga': 3, 'Curhat': 1}\n",
    "input_data_df = pd.DataFrame([input_data])\n",
    "input_data_df2 = minmax.transform(input_data_df)\n",
    "input_data_df1 = kbins.transform(input_data_df2)\n",
    "print(input_data_df1)\n",
    "predictDF = SVM.predict(input_data_df1)\n",
    "print(predictDF)\n"
   ]
  }
 ],
 "metadata": {
  "kernelspec": {
   "display_name": "Python 3",
   "language": "python",
   "name": "python3"
  },
  "language_info": {
   "codemirror_mode": {
    "name": "ipython",
    "version": 3
   },
   "file_extension": ".py",
   "mimetype": "text/x-python",
   "name": "python",
   "nbconvert_exporter": "python",
   "pygments_lexer": "ipython3",
   "version": "3.12.0"
  }
 },
 "nbformat": 4,
 "nbformat_minor": 2
}
